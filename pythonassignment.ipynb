{
  "nbformat": 4,
  "nbformat_minor": 0,
  "metadata": {
    "colab": {
      "provenance": [],
      "authorship_tag": "ABX9TyNuYnB+EQVX9/VUH2k185QE",
      "include_colab_link": true
    },
    "kernelspec": {
      "name": "python3",
      "display_name": "Python 3"
    },
    "language_info": {
      "name": "python"
    }
  },
  "cells": [
    {
      "cell_type": "markdown",
      "metadata": {
        "id": "view-in-github",
        "colab_type": "text"
      },
      "source": [
        "<a href=\"https://colab.research.google.com/github/ranjansoumya115/soumyaranjan/blob/main/pythonassignment.ipynb\" target=\"_parent\"><img src=\"https://colab.research.google.com/assets/colab-badge.svg\" alt=\"Open In Colab\"/></a>"
      ]
    },
    {
      "cell_type": "markdown",
      "source": [
        "1.write a function which will try to find out len of a string without using an inbuilt len function ."
      ],
      "metadata": {
        "id": "Ii62tCXISflY"
      }
    },
    {
      "cell_type": "code",
      "execution_count": 6,
      "metadata": {
        "colab": {
          "base_uri": "https://localhost:8080/"
        },
        "id": "FVCgDIaxR0FZ",
        "outputId": "e9fad94b-9692-48b2-a4ce-08ea4f30e730"
      },
      "outputs": [
        {
          "output_type": "stream",
          "name": "stdout",
          "text": [
            "Length of the string is:   49\n"
          ]
        }
      ],
      "source": [
        "string=(\"Enter string:Python is a very demandable language\")\n",
        "count=0\n",
        "for i in string:\n",
        "      count=count+1\n",
        "print(\"Length of the string is:  \",count)\n"
      ]
    },
    {
      "cell_type": "markdown",
      "source": [
        "2. write a function which  will be able to print an index of list element without using an index function."
      ],
      "metadata": {
        "id": "vGscprPHTduO"
      }
    },
    {
      "cell_type": "code",
      "source": [
        "list = [15,25,65,28,95,35]\n",
        "\n",
        "for index,val  in enumerate(list):\n",
        "    print(index, val)"
      ],
      "metadata": {
        "colab": {
          "base_uri": "https://localhost:8080/"
        },
        "id": "fCm3RbdaTFDR",
        "outputId": "64d6f6e8-35d1-41a5-8f40-8f1d29348323"
      },
      "execution_count": 7,
      "outputs": [
        {
          "output_type": "stream",
          "name": "stdout",
          "text": [
            "0 15\n",
            "1 25\n",
            "2 65\n",
            "3 28\n",
            "4 95\n",
            "5 35\n"
          ]
        }
      ]
    },
    {
      "cell_type": "markdown",
      "source": [
        "3. write a function which will be able to print an ip address of your system."
      ],
      "metadata": {
        "id": "UVhV4f-oVLgB"
      }
    },
    {
      "cell_type": "code",
      "source": [
        "import socket\n",
        "hostname = socket.gethostname()\n",
        "IPAddr = socket.gethostbyname(hostname)\n",
        " \n",
        "print(\"Your Computer Name is:\" + hostname)\n",
        "print(\"Your Computer IP Address is:\" + IPAddr)"
      ],
      "metadata": {
        "colab": {
          "base_uri": "https://localhost:8080/"
        },
        "id": "CTkhHcimVNgy",
        "outputId": "94a6e346-7dcc-451e-df24-e943fde26925"
      },
      "execution_count": 12,
      "outputs": [
        {
          "output_type": "stream",
          "name": "stdout",
          "text": [
            "Your Computer Name is:f01f0f47c43d\n",
            "Your Computer IP Address is:172.28.0.2\n"
          ]
        }
      ]
    },
    {
      "cell_type": "markdown",
      "source": [
        "4. write a function which will shutdown your system."
      ],
      "metadata": {
        "id": "oVPXlGQxWa4f"
      }
    },
    {
      "cell_type": "code",
      "source": [
        "import os\n",
        "  \n",
        "shutdown = input(\"Do you wish to shutdown your computer ? (yes / no): \")\n",
        "  \n",
        "if shutdown == 'no':\n",
        "    exit()\n",
        "else:\n",
        "    os.system(\"shutdown /s /p 1\")"
      ],
      "metadata": {
        "colab": {
          "base_uri": "https://localhost:8080/"
        },
        "id": "6DMrUtlTWfr2",
        "outputId": "95b8b80a-ea60-45c9-baa3-4087ef4893b8"
      },
      "execution_count": 4,
      "outputs": [
        {
          "name": "stdout",
          "output_type": "stream",
          "text": [
            "Do you wish to shutdown your computer ? (yes / no): yes\n"
          ]
        }
      ]
    },
    {
      "cell_type": "markdown",
      "source": [
        "5. write a function which will take input as a list with any kind of numeric value and give an out as a multiplication of \n",
        "all the numeric data l = [3.5, 6.56, 4,5,\"sudh\" , \"ineuron\" , 'fsda bootcamp 2.0']."
      ],
      "metadata": {
        "id": "8Ikk2sb6Tcju"
      }
    },
    {
      "cell_type": "code",
      "source": [
        "def multiply(numbers):  \n",
        "    x = [3.5, 6.56, 4,5,\"sudh\" , \"ineuron\" , 'fsda bootcamp 2.0']\n",
        "    total = 1\n",
        "    for x in numbers:\n",
        "      if type(x) == numbers:\n",
        "        total = x*total\n",
        "    return total  \n",
        "\n"
      ],
      "metadata": {
        "id": "DOZG1BYGZTcd"
      },
      "execution_count": 41,
      "outputs": []
    },
    {
      "cell_type": "markdown",
      "source": [
        "6. write a function which will be able to read all the mails ."
      ],
      "metadata": {
        "id": "Ppnu27xugftJ"
      }
    },
    {
      "cell_type": "code",
      "source": [],
      "metadata": {
        "id": "jUa_o1lWZZwy"
      },
      "execution_count": 31,
      "outputs": []
    },
    {
      "cell_type": "code",
      "source": [
        "import imaplib\n",
        "import base64\n",
        "import os\n",
        "import email\n",
        "\n",
        "email_user = input('Email:')\n",
        "email_pass = input('Password:')\n",
        "\n",
        "mail = imaplib.gmail.com\n",
        "mail.login(email_user, email_pass)\n",
        "mail.select('Inbox')"
      ],
      "metadata": {
        "colab": {
          "base_uri": "https://localhost:8080/",
          "height": 280
        },
        "id": "E407z4NpYa6Y",
        "outputId": "2eaf9d7e-a2a0-4030-e9be-ad8a440c28c5"
      },
      "execution_count": 71,
      "outputs": [
        {
          "name": "stdout",
          "output_type": "stream",
          "text": [
            "Email:ranjansoumya115@gmail.com\n",
            "Password:Soumya@7410\n"
          ]
        },
        {
          "output_type": "error",
          "ename": "AttributeError",
          "evalue": "ignored",
          "traceback": [
            "\u001b[0;31m---------------------------------------------------------------------------\u001b[0m",
            "\u001b[0;31mAttributeError\u001b[0m                            Traceback (most recent call last)",
            "\u001b[0;32m<ipython-input-71-e2215b33cbb9>\u001b[0m in \u001b[0;36m<module>\u001b[0;34m\u001b[0m\n\u001b[1;32m      7\u001b[0m \u001b[0memail_pass\u001b[0m \u001b[0;34m=\u001b[0m \u001b[0minput\u001b[0m\u001b[0;34m(\u001b[0m\u001b[0;34m'Password:'\u001b[0m\u001b[0;34m)\u001b[0m\u001b[0;34m\u001b[0m\u001b[0;34m\u001b[0m\u001b[0m\n\u001b[1;32m      8\u001b[0m \u001b[0;34m\u001b[0m\u001b[0m\n\u001b[0;32m----> 9\u001b[0;31m \u001b[0mmail\u001b[0m \u001b[0;34m=\u001b[0m \u001b[0mimaplib\u001b[0m\u001b[0;34m.\u001b[0m\u001b[0mgmail\u001b[0m\u001b[0;34m.\u001b[0m\u001b[0mcom\u001b[0m\u001b[0;34m\u001b[0m\u001b[0;34m\u001b[0m\u001b[0m\n\u001b[0m\u001b[1;32m     10\u001b[0m \u001b[0mmail\u001b[0m\u001b[0;34m.\u001b[0m\u001b[0mlogin\u001b[0m\u001b[0;34m(\u001b[0m\u001b[0memail_user\u001b[0m\u001b[0;34m,\u001b[0m \u001b[0memail_pass\u001b[0m\u001b[0;34m)\u001b[0m\u001b[0;34m\u001b[0m\u001b[0;34m\u001b[0m\u001b[0m\n\u001b[1;32m     11\u001b[0m \u001b[0mmail\u001b[0m\u001b[0;34m.\u001b[0m\u001b[0mselect\u001b[0m\u001b[0;34m(\u001b[0m\u001b[0;34m'Inbox'\u001b[0m\u001b[0;34m)\u001b[0m\u001b[0;34m\u001b[0m\u001b[0;34m\u001b[0m\u001b[0m\n",
            "\u001b[0;31mAttributeError\u001b[0m: module 'imaplib' has no attribute 'gmail'"
          ]
        }
      ]
    },
    {
      "cell_type": "markdown",
      "source": [
        "7. write a function which will be able to send a mail to anyone."
      ],
      "metadata": {
        "id": "PL6ZO2ONjUq_"
      }
    },
    {
      "cell_type": "code",
      "source": [],
      "metadata": {
        "id": "u5tyGL0QjYkA"
      },
      "execution_count": null,
      "outputs": []
    },
    {
      "cell_type": "markdown",
      "source": [
        "8. write a function which will be able to read a doc/word file from your system."
      ],
      "metadata": {
        "id": "ZEbAjMb4jbc-"
      }
    },
    {
      "cell_type": "code",
      "source": [
        "import docx \n",
        "\n",
        "file = (\"E:\\Hi\")\n",
        "\n",
        "content = file\n",
        "\n",
        "for i in content:\n",
        "  print(file)"
      ],
      "metadata": {
        "colab": {
          "base_uri": "https://localhost:8080/"
        },
        "id": "yDh-yrHmkR6T",
        "outputId": "7f479407-45e8-4c2e-ad5e-5bc309519815"
      },
      "execution_count": 70,
      "outputs": [
        {
          "output_type": "stream",
          "name": "stdout",
          "text": [
            "E:\\Hi\n",
            "E:\\Hi\n",
            "E:\\Hi\n",
            "E:\\Hi\n",
            "E:\\Hi\n"
          ]
        }
      ]
    },
    {
      "cell_type": "code",
      "source": [],
      "metadata": {
        "id": "Qr5R2PNSnbko"
      },
      "execution_count": null,
      "outputs": []
    }
  ]
}