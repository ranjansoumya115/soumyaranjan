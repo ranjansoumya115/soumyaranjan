{
  "nbformat": 4,
  "nbformat_minor": 0,
  "metadata": {
    "colab": {
      "provenance": [],
      "authorship_tag": "ABX9TyMCXBLooNgzAit/VC4OFDF7",
      "include_colab_link": true
    },
    "kernelspec": {
      "name": "python3",
      "display_name": "Python 3"
    },
    "language_info": {
      "name": "python"
    }
  },
  "cells": [
    {
      "cell_type": "markdown",
      "metadata": {
        "id": "view-in-github",
        "colab_type": "text"
      },
      "source": [
        "<a href=\"https://colab.research.google.com/github/ranjansoumya115/soumyaranjan/blob/main/pythonassignment15.ipynb\" target=\"_parent\"><img src=\"https://colab.research.google.com/assets/colab-badge.svg\" alt=\"Open In Colab\"/></a>"
      ]
    },
    {
      "cell_type": "markdown",
      "source": [
        "1.write a function which will try to find out len of a string without using an inbuilt len function ."
      ],
      "metadata": {
        "id": "Ii62tCXISflY"
      }
    },
    {
      "cell_type": "code",
      "execution_count": 6,
      "metadata": {
        "colab": {
          "base_uri": "https://localhost:8080/"
        },
        "id": "FVCgDIaxR0FZ",
        "outputId": "e9fad94b-9692-48b2-a4ce-08ea4f30e730"
      },
      "outputs": [
        {
          "output_type": "stream",
          "name": "stdout",
          "text": [
            "Length of the string is:   49\n"
          ]
        }
      ],
      "source": [
        "string=(\"Enter string:Python is a very demandable language\")\n",
        "count=0\n",
        "for i in string:\n",
        "      count=count+1\n",
        "print(\"Length of the string is:  \",count)\n"
      ]
    },
    {
      "cell_type": "markdown",
      "source": [
        "2. write a function which  will be able to print an index of list element without using an index function."
      ],
      "metadata": {
        "id": "vGscprPHTduO"
      }
    },
    {
      "cell_type": "code",
      "source": [
        "list = [15,25,65,28,95,35]\n",
        "\n",
        "for index,val  in enumerate(list):\n",
        "    print(index, val)"
      ],
      "metadata": {
        "colab": {
          "base_uri": "https://localhost:8080/"
        },
        "id": "fCm3RbdaTFDR",
        "outputId": "64d6f6e8-35d1-41a5-8f40-8f1d29348323"
      },
      "execution_count": 7,
      "outputs": [
        {
          "output_type": "stream",
          "name": "stdout",
          "text": [
            "0 15\n",
            "1 25\n",
            "2 65\n",
            "3 28\n",
            "4 95\n",
            "5 35\n"
          ]
        }
      ]
    },
    {
      "cell_type": "markdown",
      "source": [
        "3. write a function which will be able to print an ip address of your system."
      ],
      "metadata": {
        "id": "UVhV4f-oVLgB"
      }
    },
    {
      "cell_type": "code",
      "source": [
        "import socket\n",
        "hostname = socket.gethostname()\n",
        "IPAddr = socket.gethostbyname(hostname)\n",
        " \n",
        "print(\"Your Computer Name is:\" + hostname)\n",
        "print(\"Your Computer IP Address is:\" + IPAddr)"
      ],
      "metadata": {
        "colab": {
          "base_uri": "https://localhost:8080/"
        },
        "id": "CTkhHcimVNgy",
        "outputId": "94a6e346-7dcc-451e-df24-e943fde26925"
      },
      "execution_count": 12,
      "outputs": [
        {
          "output_type": "stream",
          "name": "stdout",
          "text": [
            "Your Computer Name is:f01f0f47c43d\n",
            "Your Computer IP Address is:172.28.0.2\n"
          ]
        }
      ]
    },
    {
      "cell_type": "markdown",
      "source": [
        "4. write a function which will shutdown your system."
      ],
      "metadata": {
        "id": "oVPXlGQxWa4f"
      }
    },
    {
      "cell_type": "code",
      "source": [
        "import os\n",
        "  \n",
        "shutdown = input(\"Do you want to shutdown your computer ? (yes / no): \")\n",
        "  \n",
        "if shutdown == 'no':\n",
        "    exit()\n",
        "else:\n",
        "    os.system(\"shutdown /s /t 1\")"
      ],
      "metadata": {
        "colab": {
          "base_uri": "https://localhost:8080/"
        },
        "id": "6DMrUtlTWfr2",
        "outputId": "d272acea-4607-47c4-8598-55047292406b"
      },
      "execution_count": 13,
      "outputs": [
        {
          "name": "stdout",
          "output_type": "stream",
          "text": [
            "Do you want to shutdown your computer ? (yes / no): no\n"
          ]
        }
      ]
    },
    {
      "cell_type": "code",
      "source": [
        "import os\n",
        "os.system('shutdown /p /f')"
      ],
      "metadata": {
        "colab": {
          "base_uri": "https://localhost:8080/"
        },
        "id": "3Jg1yJCyXNR1",
        "outputId": "7a17f705-d164-4e26-b7fd-8b015123c9da"
      },
      "execution_count": 1,
      "outputs": [
        {
          "output_type": "execute_result",
          "data": {
            "text/plain": [
              "256"
            ]
          },
          "metadata": {},
          "execution_count": 1
        }
      ]
    },
    {
      "cell_type": "markdown",
      "source": [],
      "metadata": {
        "id": "8Ikk2sb6Tcju"
      }
    }
  ]
}